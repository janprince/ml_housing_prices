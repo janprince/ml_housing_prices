{
  "cells": [
    {
      "cell_type": "markdown",
      "id": "255fd7ae",
      "metadata": {
        "id": "255fd7ae"
      },
      "source": [
        "## The Problem (Looking at the big picture)"
      ]
    },
    {
      "cell_type": "markdown",
      "id": "8ada438f",
      "metadata": {
        "id": "8ada438f"
      },
      "source": [
        "Welcome to Machine Learning Housing Corporation! The first task you are asked to\n",
        "perform is to build a model of housing prices in California using the California census\n",
        "data. This data has metrics such as the population, median income, median housing\n",
        "price, and so on for each block group in California. Block groups are the smallest\n",
        "geographical unit for which the US Census Bureau publishes sample data (a block\n",
        "group typically has a population of 600 to 3,000 people). We will just call them “districts”\n",
        "for short.\n",
        "Your model should learn from this data and be able to predict the median housing\n",
        "price in any district, given all the other metrics."
      ]
    },
    {
      "cell_type": "markdown",
      "id": "d8bd719a",
      "metadata": {
        "id": "d8bd719a"
      },
      "source": [
        "## Getting the Data"
      ]
    },
    {
      "cell_type": "code",
      "execution_count": 5,
      "id": "a7319f86",
      "metadata": {
        "id": "a7319f86"
      },
      "outputs": [],
      "source": [
        "import pandas as pd\n",
        "\n",
        "def load_housing_data():\n",
        "    return pd.read_csv(\"https://raw.githubusercontent.com/janprince/ml_housing_prices/main/dataset/housing.csv\")"
      ]
    },
    {
      "cell_type": "code",
      "execution_count": 6,
      "id": "87852a38",
      "metadata": {
        "scrolled": true,
        "id": "87852a38"
      },
      "outputs": [],
      "source": [
        "housing = load_housing_data()"
      ]
    },
    {
      "cell_type": "markdown",
      "id": "952b12fe",
      "metadata": {
        "id": "952b12fe"
      },
      "source": [
        "### A Quick look at the data structure"
      ]
    },
    {
      "cell_type": "code",
      "execution_count": 7,
      "id": "584e84bb",
      "metadata": {
        "id": "584e84bb",
        "outputId": "d7e2f44f-d8f5-4c62-9ee4-05507033ee68",
        "colab": {
          "base_uri": "https://localhost:8080/",
          "height": 206
        }
      },
      "outputs": [
        {
          "output_type": "execute_result",
          "data": {
            "text/html": [
              "\n",
              "  <div id=\"df-bb9adc50-5e72-43fb-b461-118ce110e494\">\n",
              "    <div class=\"colab-df-container\">\n",
              "      <div>\n",
              "<style scoped>\n",
              "    .dataframe tbody tr th:only-of-type {\n",
              "        vertical-align: middle;\n",
              "    }\n",
              "\n",
              "    .dataframe tbody tr th {\n",
              "        vertical-align: top;\n",
              "    }\n",
              "\n",
              "    .dataframe thead th {\n",
              "        text-align: right;\n",
              "    }\n",
              "</style>\n",
              "<table border=\"1\" class=\"dataframe\">\n",
              "  <thead>\n",
              "    <tr style=\"text-align: right;\">\n",
              "      <th></th>\n",
              "      <th>longitude</th>\n",
              "      <th>latitude</th>\n",
              "      <th>housing_median_age</th>\n",
              "      <th>total_rooms</th>\n",
              "      <th>total_bedrooms</th>\n",
              "      <th>population</th>\n",
              "      <th>households</th>\n",
              "      <th>median_income</th>\n",
              "      <th>median_house_value</th>\n",
              "      <th>ocean_proximity</th>\n",
              "    </tr>\n",
              "  </thead>\n",
              "  <tbody>\n",
              "    <tr>\n",
              "      <th>0</th>\n",
              "      <td>-122.23</td>\n",
              "      <td>37.88</td>\n",
              "      <td>41.0</td>\n",
              "      <td>880.0</td>\n",
              "      <td>129.0</td>\n",
              "      <td>322.0</td>\n",
              "      <td>126.0</td>\n",
              "      <td>8.3252</td>\n",
              "      <td>452600.0</td>\n",
              "      <td>NEAR BAY</td>\n",
              "    </tr>\n",
              "    <tr>\n",
              "      <th>1</th>\n",
              "      <td>-122.22</td>\n",
              "      <td>37.86</td>\n",
              "      <td>21.0</td>\n",
              "      <td>7099.0</td>\n",
              "      <td>1106.0</td>\n",
              "      <td>2401.0</td>\n",
              "      <td>1138.0</td>\n",
              "      <td>8.3014</td>\n",
              "      <td>358500.0</td>\n",
              "      <td>NEAR BAY</td>\n",
              "    </tr>\n",
              "    <tr>\n",
              "      <th>2</th>\n",
              "      <td>-122.24</td>\n",
              "      <td>37.85</td>\n",
              "      <td>52.0</td>\n",
              "      <td>1467.0</td>\n",
              "      <td>190.0</td>\n",
              "      <td>496.0</td>\n",
              "      <td>177.0</td>\n",
              "      <td>7.2574</td>\n",
              "      <td>352100.0</td>\n",
              "      <td>NEAR BAY</td>\n",
              "    </tr>\n",
              "    <tr>\n",
              "      <th>3</th>\n",
              "      <td>-122.25</td>\n",
              "      <td>37.85</td>\n",
              "      <td>52.0</td>\n",
              "      <td>1274.0</td>\n",
              "      <td>235.0</td>\n",
              "      <td>558.0</td>\n",
              "      <td>219.0</td>\n",
              "      <td>5.6431</td>\n",
              "      <td>341300.0</td>\n",
              "      <td>NEAR BAY</td>\n",
              "    </tr>\n",
              "    <tr>\n",
              "      <th>4</th>\n",
              "      <td>-122.25</td>\n",
              "      <td>37.85</td>\n",
              "      <td>52.0</td>\n",
              "      <td>1627.0</td>\n",
              "      <td>280.0</td>\n",
              "      <td>565.0</td>\n",
              "      <td>259.0</td>\n",
              "      <td>3.8462</td>\n",
              "      <td>342200.0</td>\n",
              "      <td>NEAR BAY</td>\n",
              "    </tr>\n",
              "  </tbody>\n",
              "</table>\n",
              "</div>\n",
              "      <button class=\"colab-df-convert\" onclick=\"convertToInteractive('df-bb9adc50-5e72-43fb-b461-118ce110e494')\"\n",
              "              title=\"Convert this dataframe to an interactive table.\"\n",
              "              style=\"display:none;\">\n",
              "        \n",
              "  <svg xmlns=\"http://www.w3.org/2000/svg\" height=\"24px\"viewBox=\"0 0 24 24\"\n",
              "       width=\"24px\">\n",
              "    <path d=\"M0 0h24v24H0V0z\" fill=\"none\"/>\n",
              "    <path d=\"M18.56 5.44l.94 2.06.94-2.06 2.06-.94-2.06-.94-.94-2.06-.94 2.06-2.06.94zm-11 1L8.5 8.5l.94-2.06 2.06-.94-2.06-.94L8.5 2.5l-.94 2.06-2.06.94zm10 10l.94 2.06.94-2.06 2.06-.94-2.06-.94-.94-2.06-.94 2.06-2.06.94z\"/><path d=\"M17.41 7.96l-1.37-1.37c-.4-.4-.92-.59-1.43-.59-.52 0-1.04.2-1.43.59L10.3 9.45l-7.72 7.72c-.78.78-.78 2.05 0 2.83L4 21.41c.39.39.9.59 1.41.59.51 0 1.02-.2 1.41-.59l7.78-7.78 2.81-2.81c.8-.78.8-2.07 0-2.86zM5.41 20L4 18.59l7.72-7.72 1.47 1.35L5.41 20z\"/>\n",
              "  </svg>\n",
              "      </button>\n",
              "      \n",
              "  <style>\n",
              "    .colab-df-container {\n",
              "      display:flex;\n",
              "      flex-wrap:wrap;\n",
              "      gap: 12px;\n",
              "    }\n",
              "\n",
              "    .colab-df-convert {\n",
              "      background-color: #E8F0FE;\n",
              "      border: none;\n",
              "      border-radius: 50%;\n",
              "      cursor: pointer;\n",
              "      display: none;\n",
              "      fill: #1967D2;\n",
              "      height: 32px;\n",
              "      padding: 0 0 0 0;\n",
              "      width: 32px;\n",
              "    }\n",
              "\n",
              "    .colab-df-convert:hover {\n",
              "      background-color: #E2EBFA;\n",
              "      box-shadow: 0px 1px 2px rgba(60, 64, 67, 0.3), 0px 1px 3px 1px rgba(60, 64, 67, 0.15);\n",
              "      fill: #174EA6;\n",
              "    }\n",
              "\n",
              "    [theme=dark] .colab-df-convert {\n",
              "      background-color: #3B4455;\n",
              "      fill: #D2E3FC;\n",
              "    }\n",
              "\n",
              "    [theme=dark] .colab-df-convert:hover {\n",
              "      background-color: #434B5C;\n",
              "      box-shadow: 0px 1px 3px 1px rgba(0, 0, 0, 0.15);\n",
              "      filter: drop-shadow(0px 1px 2px rgba(0, 0, 0, 0.3));\n",
              "      fill: #FFFFFF;\n",
              "    }\n",
              "  </style>\n",
              "\n",
              "      <script>\n",
              "        const buttonEl =\n",
              "          document.querySelector('#df-bb9adc50-5e72-43fb-b461-118ce110e494 button.colab-df-convert');\n",
              "        buttonEl.style.display =\n",
              "          google.colab.kernel.accessAllowed ? 'block' : 'none';\n",
              "\n",
              "        async function convertToInteractive(key) {\n",
              "          const element = document.querySelector('#df-bb9adc50-5e72-43fb-b461-118ce110e494');\n",
              "          const dataTable =\n",
              "            await google.colab.kernel.invokeFunction('convertToInteractive',\n",
              "                                                     [key], {});\n",
              "          if (!dataTable) return;\n",
              "\n",
              "          const docLinkHtml = 'Like what you see? Visit the ' +\n",
              "            '<a target=\"_blank\" href=https://colab.research.google.com/notebooks/data_table.ipynb>data table notebook</a>'\n",
              "            + ' to learn more about interactive tables.';\n",
              "          element.innerHTML = '';\n",
              "          dataTable['output_type'] = 'display_data';\n",
              "          await google.colab.output.renderOutput(dataTable, element);\n",
              "          const docLink = document.createElement('div');\n",
              "          docLink.innerHTML = docLinkHtml;\n",
              "          element.appendChild(docLink);\n",
              "        }\n",
              "      </script>\n",
              "    </div>\n",
              "  </div>\n",
              "  "
            ],
            "text/plain": [
              "   longitude  latitude  ...  median_house_value  ocean_proximity\n",
              "0    -122.23     37.88  ...            452600.0         NEAR BAY\n",
              "1    -122.22     37.86  ...            358500.0         NEAR BAY\n",
              "2    -122.24     37.85  ...            352100.0         NEAR BAY\n",
              "3    -122.25     37.85  ...            341300.0         NEAR BAY\n",
              "4    -122.25     37.85  ...            342200.0         NEAR BAY\n",
              "\n",
              "[5 rows x 10 columns]"
            ]
          },
          "metadata": {},
          "execution_count": 7
        }
      ],
      "source": [
        "housing.head()"
      ]
    },
    {
      "cell_type": "code",
      "execution_count": 8,
      "id": "8a334fcf",
      "metadata": {
        "id": "8a334fcf",
        "outputId": "940aca83-1f98-45d3-dbd7-d29d6ba6e328",
        "colab": {
          "base_uri": "https://localhost:8080/"
        }
      },
      "outputs": [
        {
          "output_type": "stream",
          "name": "stdout",
          "text": [
            "<class 'pandas.core.frame.DataFrame'>\n",
            "RangeIndex: 20640 entries, 0 to 20639\n",
            "Data columns (total 10 columns):\n",
            " #   Column              Non-Null Count  Dtype  \n",
            "---  ------              --------------  -----  \n",
            " 0   longitude           20640 non-null  float64\n",
            " 1   latitude            20640 non-null  float64\n",
            " 2   housing_median_age  20640 non-null  float64\n",
            " 3   total_rooms         20640 non-null  float64\n",
            " 4   total_bedrooms      20433 non-null  float64\n",
            " 5   population          20640 non-null  float64\n",
            " 6   households          20640 non-null  float64\n",
            " 7   median_income       20640 non-null  float64\n",
            " 8   median_house_value  20640 non-null  float64\n",
            " 9   ocean_proximity     20640 non-null  object \n",
            "dtypes: float64(9), object(1)\n",
            "memory usage: 1.6+ MB\n"
          ]
        }
      ],
      "source": [
        "# information on features\n",
        "housing.info()"
      ]
    },
    {
      "cell_type": "code",
      "execution_count": 9,
      "id": "8da6c0bb",
      "metadata": {
        "id": "8da6c0bb",
        "outputId": "8a72b55e-3f53-4c41-b185-61569923b1fb",
        "colab": {
          "base_uri": "https://localhost:8080/"
        }
      },
      "outputs": [
        {
          "output_type": "execute_result",
          "data": {
            "text/plain": [
              "<1H OCEAN     9136\n",
              "INLAND        6551\n",
              "NEAR OCEAN    2658\n",
              "NEAR BAY      2290\n",
              "ISLAND           5\n",
              "Name: ocean_proximity, dtype: int64"
            ]
          },
          "metadata": {},
          "execution_count": 9
        }
      ],
      "source": [
        "housing[\"ocean_proximity\"].value_counts()"
      ]
    },
    {
      "cell_type": "code",
      "execution_count": 10,
      "id": "4b638ac0",
      "metadata": {
        "id": "4b638ac0",
        "outputId": "ce33b2ad-3299-45f4-ebf2-5bbebf42d33e",
        "colab": {
          "base_uri": "https://localhost:8080/",
          "height": 300
        }
      },
      "outputs": [
        {
          "output_type": "execute_result",
          "data": {
            "text/html": [
              "\n",
              "  <div id=\"df-3f06f5a1-8088-44eb-92ec-ba12fa7eef5a\">\n",
              "    <div class=\"colab-df-container\">\n",
              "      <div>\n",
              "<style scoped>\n",
              "    .dataframe tbody tr th:only-of-type {\n",
              "        vertical-align: middle;\n",
              "    }\n",
              "\n",
              "    .dataframe tbody tr th {\n",
              "        vertical-align: top;\n",
              "    }\n",
              "\n",
              "    .dataframe thead th {\n",
              "        text-align: right;\n",
              "    }\n",
              "</style>\n",
              "<table border=\"1\" class=\"dataframe\">\n",
              "  <thead>\n",
              "    <tr style=\"text-align: right;\">\n",
              "      <th></th>\n",
              "      <th>longitude</th>\n",
              "      <th>latitude</th>\n",
              "      <th>housing_median_age</th>\n",
              "      <th>total_rooms</th>\n",
              "      <th>total_bedrooms</th>\n",
              "      <th>population</th>\n",
              "      <th>households</th>\n",
              "      <th>median_income</th>\n",
              "      <th>median_house_value</th>\n",
              "    </tr>\n",
              "  </thead>\n",
              "  <tbody>\n",
              "    <tr>\n",
              "      <th>count</th>\n",
              "      <td>20640.000000</td>\n",
              "      <td>20640.000000</td>\n",
              "      <td>20640.000000</td>\n",
              "      <td>20640.000000</td>\n",
              "      <td>20433.000000</td>\n",
              "      <td>20640.000000</td>\n",
              "      <td>20640.000000</td>\n",
              "      <td>20640.000000</td>\n",
              "      <td>20640.000000</td>\n",
              "    </tr>\n",
              "    <tr>\n",
              "      <th>mean</th>\n",
              "      <td>-119.569704</td>\n",
              "      <td>35.631861</td>\n",
              "      <td>28.639486</td>\n",
              "      <td>2635.763081</td>\n",
              "      <td>537.870553</td>\n",
              "      <td>1425.476744</td>\n",
              "      <td>499.539680</td>\n",
              "      <td>3.870671</td>\n",
              "      <td>206855.816909</td>\n",
              "    </tr>\n",
              "    <tr>\n",
              "      <th>std</th>\n",
              "      <td>2.003532</td>\n",
              "      <td>2.135952</td>\n",
              "      <td>12.585558</td>\n",
              "      <td>2181.615252</td>\n",
              "      <td>421.385070</td>\n",
              "      <td>1132.462122</td>\n",
              "      <td>382.329753</td>\n",
              "      <td>1.899822</td>\n",
              "      <td>115395.615874</td>\n",
              "    </tr>\n",
              "    <tr>\n",
              "      <th>min</th>\n",
              "      <td>-124.350000</td>\n",
              "      <td>32.540000</td>\n",
              "      <td>1.000000</td>\n",
              "      <td>2.000000</td>\n",
              "      <td>1.000000</td>\n",
              "      <td>3.000000</td>\n",
              "      <td>1.000000</td>\n",
              "      <td>0.499900</td>\n",
              "      <td>14999.000000</td>\n",
              "    </tr>\n",
              "    <tr>\n",
              "      <th>25%</th>\n",
              "      <td>-121.800000</td>\n",
              "      <td>33.930000</td>\n",
              "      <td>18.000000</td>\n",
              "      <td>1447.750000</td>\n",
              "      <td>296.000000</td>\n",
              "      <td>787.000000</td>\n",
              "      <td>280.000000</td>\n",
              "      <td>2.563400</td>\n",
              "      <td>119600.000000</td>\n",
              "    </tr>\n",
              "    <tr>\n",
              "      <th>50%</th>\n",
              "      <td>-118.490000</td>\n",
              "      <td>34.260000</td>\n",
              "      <td>29.000000</td>\n",
              "      <td>2127.000000</td>\n",
              "      <td>435.000000</td>\n",
              "      <td>1166.000000</td>\n",
              "      <td>409.000000</td>\n",
              "      <td>3.534800</td>\n",
              "      <td>179700.000000</td>\n",
              "    </tr>\n",
              "    <tr>\n",
              "      <th>75%</th>\n",
              "      <td>-118.010000</td>\n",
              "      <td>37.710000</td>\n",
              "      <td>37.000000</td>\n",
              "      <td>3148.000000</td>\n",
              "      <td>647.000000</td>\n",
              "      <td>1725.000000</td>\n",
              "      <td>605.000000</td>\n",
              "      <td>4.743250</td>\n",
              "      <td>264725.000000</td>\n",
              "    </tr>\n",
              "    <tr>\n",
              "      <th>max</th>\n",
              "      <td>-114.310000</td>\n",
              "      <td>41.950000</td>\n",
              "      <td>52.000000</td>\n",
              "      <td>39320.000000</td>\n",
              "      <td>6445.000000</td>\n",
              "      <td>35682.000000</td>\n",
              "      <td>6082.000000</td>\n",
              "      <td>15.000100</td>\n",
              "      <td>500001.000000</td>\n",
              "    </tr>\n",
              "  </tbody>\n",
              "</table>\n",
              "</div>\n",
              "      <button class=\"colab-df-convert\" onclick=\"convertToInteractive('df-3f06f5a1-8088-44eb-92ec-ba12fa7eef5a')\"\n",
              "              title=\"Convert this dataframe to an interactive table.\"\n",
              "              style=\"display:none;\">\n",
              "        \n",
              "  <svg xmlns=\"http://www.w3.org/2000/svg\" height=\"24px\"viewBox=\"0 0 24 24\"\n",
              "       width=\"24px\">\n",
              "    <path d=\"M0 0h24v24H0V0z\" fill=\"none\"/>\n",
              "    <path d=\"M18.56 5.44l.94 2.06.94-2.06 2.06-.94-2.06-.94-.94-2.06-.94 2.06-2.06.94zm-11 1L8.5 8.5l.94-2.06 2.06-.94-2.06-.94L8.5 2.5l-.94 2.06-2.06.94zm10 10l.94 2.06.94-2.06 2.06-.94-2.06-.94-.94-2.06-.94 2.06-2.06.94z\"/><path d=\"M17.41 7.96l-1.37-1.37c-.4-.4-.92-.59-1.43-.59-.52 0-1.04.2-1.43.59L10.3 9.45l-7.72 7.72c-.78.78-.78 2.05 0 2.83L4 21.41c.39.39.9.59 1.41.59.51 0 1.02-.2 1.41-.59l7.78-7.78 2.81-2.81c.8-.78.8-2.07 0-2.86zM5.41 20L4 18.59l7.72-7.72 1.47 1.35L5.41 20z\"/>\n",
              "  </svg>\n",
              "      </button>\n",
              "      \n",
              "  <style>\n",
              "    .colab-df-container {\n",
              "      display:flex;\n",
              "      flex-wrap:wrap;\n",
              "      gap: 12px;\n",
              "    }\n",
              "\n",
              "    .colab-df-convert {\n",
              "      background-color: #E8F0FE;\n",
              "      border: none;\n",
              "      border-radius: 50%;\n",
              "      cursor: pointer;\n",
              "      display: none;\n",
              "      fill: #1967D2;\n",
              "      height: 32px;\n",
              "      padding: 0 0 0 0;\n",
              "      width: 32px;\n",
              "    }\n",
              "\n",
              "    .colab-df-convert:hover {\n",
              "      background-color: #E2EBFA;\n",
              "      box-shadow: 0px 1px 2px rgba(60, 64, 67, 0.3), 0px 1px 3px 1px rgba(60, 64, 67, 0.15);\n",
              "      fill: #174EA6;\n",
              "    }\n",
              "\n",
              "    [theme=dark] .colab-df-convert {\n",
              "      background-color: #3B4455;\n",
              "      fill: #D2E3FC;\n",
              "    }\n",
              "\n",
              "    [theme=dark] .colab-df-convert:hover {\n",
              "      background-color: #434B5C;\n",
              "      box-shadow: 0px 1px 3px 1px rgba(0, 0, 0, 0.15);\n",
              "      filter: drop-shadow(0px 1px 2px rgba(0, 0, 0, 0.3));\n",
              "      fill: #FFFFFF;\n",
              "    }\n",
              "  </style>\n",
              "\n",
              "      <script>\n",
              "        const buttonEl =\n",
              "          document.querySelector('#df-3f06f5a1-8088-44eb-92ec-ba12fa7eef5a button.colab-df-convert');\n",
              "        buttonEl.style.display =\n",
              "          google.colab.kernel.accessAllowed ? 'block' : 'none';\n",
              "\n",
              "        async function convertToInteractive(key) {\n",
              "          const element = document.querySelector('#df-3f06f5a1-8088-44eb-92ec-ba12fa7eef5a');\n",
              "          const dataTable =\n",
              "            await google.colab.kernel.invokeFunction('convertToInteractive',\n",
              "                                                     [key], {});\n",
              "          if (!dataTable) return;\n",
              "\n",
              "          const docLinkHtml = 'Like what you see? Visit the ' +\n",
              "            '<a target=\"_blank\" href=https://colab.research.google.com/notebooks/data_table.ipynb>data table notebook</a>'\n",
              "            + ' to learn more about interactive tables.';\n",
              "          element.innerHTML = '';\n",
              "          dataTable['output_type'] = 'display_data';\n",
              "          await google.colab.output.renderOutput(dataTable, element);\n",
              "          const docLink = document.createElement('div');\n",
              "          docLink.innerHTML = docLinkHtml;\n",
              "          element.appendChild(docLink);\n",
              "        }\n",
              "      </script>\n",
              "    </div>\n",
              "  </div>\n",
              "  "
            ],
            "text/plain": [
              "          longitude      latitude  ...  median_income  median_house_value\n",
              "count  20640.000000  20640.000000  ...   20640.000000        20640.000000\n",
              "mean    -119.569704     35.631861  ...       3.870671       206855.816909\n",
              "std        2.003532      2.135952  ...       1.899822       115395.615874\n",
              "min     -124.350000     32.540000  ...       0.499900        14999.000000\n",
              "25%     -121.800000     33.930000  ...       2.563400       119600.000000\n",
              "50%     -118.490000     34.260000  ...       3.534800       179700.000000\n",
              "75%     -118.010000     37.710000  ...       4.743250       264725.000000\n",
              "max     -114.310000     41.950000  ...      15.000100       500001.000000\n",
              "\n",
              "[8 rows x 9 columns]"
            ]
          },
          "metadata": {},
          "execution_count": 10
        }
      ],
      "source": [
        "# a summary of numerical attributes(features) (excludes \"ocean_proximity\")\n",
        "housing.describe()"
      ]
    },
    {
      "cell_type": "markdown",
      "id": "403cd0ea",
      "metadata": {
        "id": "403cd0ea"
      },
      "source": [
        "Another quick way to get a feel of the type of data you are dealing with is to plot a\n",
        "histogram for each numerical attribute."
      ]
    },
    {
      "cell_type": "code",
      "execution_count": 13,
      "id": "8db114e0",
      "metadata": {
        "id": "8db114e0",
        "outputId": "10d5f5ce-da9e-45ba-983d-c63d7b60a5cc",
        "colab": {
          "base_uri": "https://localhost:8080/",
          "height": 879
        }
      },
      "outputs": [
        {
          "output_type": "display_data",
          "data": {
            "image/png": "[encoded data removed]",
            "text/plain": [
              "<Figure size 1440x1080 with 9 Axes>"
            ]
          },
          "metadata": {
            "needs_background": "light"
          }
        }
      ],
      "source": [
        "%matplotlib inline\n",
        "import matplotlib.pyplot as plt\n",
        "\n",
        "housing.hist(bins=50, figsize=(20,15))\n",
        "plt.show()"
      ]
    },
    {
      "cell_type": "markdown",
      "id": "d37a4da7",
      "metadata": {
        "id": "d37a4da7"
      },
      "source": [
        "### Creating a test set\n",
        "Creating a test set is theoretically quite simple: just pick some instances randomly,\n",
        "typically 20% of the dataset, and set them aside. "
      ]
    },
    {
      "cell_type": "code",
      "execution_count": 14,
      "id": "3810dde8",
      "metadata": {
        "id": "3810dde8"
      },
      "outputs": [],
      "source": [
        "from sklearn.model_selection import train_test_split\n",
        "\n",
        "training_set, test_set = train_test_split(housing, test_size=0.2, random_state=42)"
      ]
    },
    {
      "cell_type": "markdown",
      "id": "7aa6312c",
      "metadata": {
        "id": "7aa6312c"
      },
      "source": [
        "The `random_state` parameter that allows you to set the random generator seed.\n",
        "random_state is basically used so that it always generates the same shuffled indices. If you do not use a random_state in train_test_split, every time you make the split you might get a different set of train and test data points and will not help you in debugging in case you get an issue.\n",
        "\n",
        "So far we have considered a random sampling method (). \n",
        "This is generally fine if your dataset is large enough (especially relative to the number of attributes), **but if it\n",
        "is not, you run the risk of introducing a *significant sampling bias***."
      ]
    },
    {
      "cell_type": "code",
      "execution_count": 15,
      "id": "fa2fb88b",
      "metadata": {
        "id": "fa2fb88b",
        "outputId": "f7d8e4a0-dd9b-4d48-f758-0345c02d1301",
        "colab": {
          "base_uri": "https://localhost:8080/"
        }
      },
      "outputs": [
        {
          "output_type": "stream",
          "name": "stdout",
          "text": [
            "<class 'pandas.core.frame.DataFrame'>\n",
            "RangeIndex: 20640 entries, 0 to 20639\n",
            "Data columns (total 10 columns):\n",
            " #   Column              Non-Null Count  Dtype  \n",
            "---  ------              --------------  -----  \n",
            " 0   longitude           20640 non-null  float64\n",
            " 1   latitude            20640 non-null  float64\n",
            " 2   housing_median_age  20640 non-null  float64\n",
            " 3   total_rooms         20640 non-null  float64\n",
            " 4   total_bedrooms      20433 non-null  float64\n",
            " 5   population          20640 non-null  float64\n",
            " 6   households          20640 non-null  float64\n",
            " 7   median_income       20640 non-null  float64\n",
            " 8   median_house_value  20640 non-null  float64\n",
            " 9   ocean_proximity     20640 non-null  object \n",
            "dtypes: float64(9), object(1)\n",
            "memory usage: 1.6+ MB\n"
          ]
        }
      ],
      "source": [
        "housing.info()"
      ]
    },
    {
      "cell_type": "markdown",
      "id": "5c39462f",
      "metadata": {
        "id": "5c39462f"
      },
      "source": [
        "Suppose you chatted with experts who told you that the **median income** is a very **important attribute to predict median housing prices**."
      ]
    },
    {
      "cell_type": "markdown",
      "id": "8ee513f0",
      "metadata": {
        "id": "8ee513f0"
      },
      "source": [
        "You may want to ensure that\n",
        "the test set is representative of the various categories of incomes in the whole dataset.\n",
        "Since the median income is a continuous numerical attribute, you first need to create\n",
        "an income category attribute."
      ]
    },
    {
      "cell_type": "markdown",
      "id": "7347cf41",
      "metadata": {
        "id": "7347cf41"
      },
      "source": [
        "The following code creates an income category attribute by dividing the median income by 1.5 (to limit the number of income categories), and rounding up using ceil (to have discrete categories), and then merging all the categories greater than 5 into category 5:"
      ]
    },
    {
      "cell_type": "code",
      "execution_count": 16,
      "id": "3004d31f",
      "metadata": {
        "id": "3004d31f",
        "outputId": "c5bfbb1a-c77a-461c-bcef-9df1c858228b",
        "colab": {
          "base_uri": "https://localhost:8080/"
        }
      },
      "outputs": [
        {
          "output_type": "stream",
          "name": "stdout",
          "text": [
            "<class 'pandas.core.frame.DataFrame'>\n",
            "RangeIndex: 20640 entries, 0 to 20639\n",
            "Data columns (total 11 columns):\n",
            " #   Column              Non-Null Count  Dtype  \n",
            "---  ------              --------------  -----  \n",
            " 0   longitude           20640 non-null  float64\n",
            " 1   latitude            20640 non-null  float64\n",
            " 2   housing_median_age  20640 non-null  float64\n",
            " 3   total_rooms         20640 non-null  float64\n",
            " 4   total_bedrooms      20433 non-null  float64\n",
            " 5   population          20640 non-null  float64\n",
            " 6   households          20640 non-null  float64\n",
            " 7   median_income       20640 non-null  float64\n",
            " 8   median_house_value  20640 non-null  float64\n",
            " 9   ocean_proximity     20640 non-null  object \n",
            " 10  income_cat          20640 non-null  float64\n",
            "dtypes: float64(10), object(1)\n",
            "memory usage: 1.7+ MB\n"
          ]
        }
      ],
      "source": [
        "import numpy as np\n",
        "# creates a new feature \"income_cat\"\n",
        "housing[\"income_cat\"] = np.ceil(housing[\"median_income\"]/1.5)\n",
        "housing[\"income_cat\"].where(housing[\"income_cat\"] < 5, 5.0, inplace=True)\n",
        "housing.info()"
      ]
    },
    {
      "cell_type": "markdown",
      "id": "86071f23",
      "metadata": {
        "id": "86071f23"
      },
      "source": [
        "Stratified random sampling is one common method that is used by researchers because it enables them to obtain a sample population that best represents the entire population being studied, making sure that each subgroup of interest is represented."
      ]
    },
    {
      "cell_type": "markdown",
      "id": "eba96bf2",
      "metadata": {
        "id": "eba96bf2"
      },
      "source": [
        "Performing stratified sampling based on the income category."
      ]
    },
    {
      "cell_type": "code",
      "execution_count": 17,
      "id": "e783b7b4",
      "metadata": {
        "id": "e783b7b4",
        "outputId": "ece13338-1b77-4bd0-b2f0-d13c6c3e948d",
        "colab": {
          "base_uri": "https://localhost:8080/"
        }
      },
      "outputs": [
        {
          "output_type": "execute_result",
          "data": {
            "text/plain": [
              "3.0    0.350581\n",
              "2.0    0.318847\n",
              "4.0    0.176308\n",
              "5.0    0.114438\n",
              "1.0    0.039826\n",
              "Name: income_cat, dtype: float64"
            ]
          },
          "metadata": {},
          "execution_count": 17
        }
      ],
      "source": [
        "from sklearn.model_selection import StratifiedShuffleSplit\n",
        "\n",
        "split = StratifiedShuffleSplit(n_splits=1, test_size=0.2, random_state=42)\n",
        "\n",
        "for train_index, test_index in split.split(housing, housing[\"income_cat\"]):\n",
        "    strat_train_set = housing.loc[train_index]\n",
        "    strat_test_set = housing.loc[test_index]\n",
        "\n",
        "housing[\"income_cat\"].value_counts() / len(housing)"
      ]
    },
    {
      "cell_type": "markdown",
      "id": "66fae23f",
      "metadata": {
        "id": "66fae23f"
      },
      "source": [
        "As you can see, the test set generated using stratified sampling has income category proportions almost identical to those in the full dataset, whereas the test set generated using purely random sampling is quite skewed.\n",
        "\n",
        "Now you should remove the income_cat attribute so the data is back to its original state:"
      ]
    },
    {
      "cell_type": "code",
      "execution_count": 18,
      "id": "4217bf57",
      "metadata": {
        "id": "4217bf57"
      },
      "outputs": [],
      "source": [
        "for set in (strat_train_set, strat_test_set):\n",
        "    set.drop([\"income_cat\"], axis=1, inplace=True)"
      ]
    },
    {
      "cell_type": "markdown",
      "id": "5948ced5",
      "metadata": {
        "id": "5948ced5"
      },
      "source": [
        "## Exploring data: Discover and Visualize the Data to Gain Insights\n",
        "Test set must be kept aside and make sure you are only exploring the training set."
      ]
    },
    {
      "cell_type": "code",
      "execution_count": 19,
      "id": "8d6ad86b",
      "metadata": {
        "id": "8d6ad86b"
      },
      "outputs": [],
      "source": [
        "# a copy of the training set\n",
        "housing = strat_train_set.copy()"
      ]
    },
    {
      "cell_type": "markdown",
      "id": "c52ca2fc",
      "metadata": {
        "id": "c52ca2fc"
      },
      "source": [
        "`housing` is a DataFrame object. (thats from the pandas library) Read more on plotting with pandas [here](https://pandas.pydata.org/docs/reference/api/pandas.DataFrame.plot.scatter.html)"
      ]
    },
    {
      "cell_type": "markdown",
      "id": "c8dca8b5",
      "metadata": {
        "id": "c8dca8b5"
      },
      "source": [
        "### Visualizing geographical data\n"
      ]
    },
    {
      "cell_type": "markdown",
      "id": "ef38be47",
      "metadata": {
        "id": "ef38be47"
      },
      "source": [
        "A scatterplot of all districts using the geographical information (latitude and longtitude)"
      ]
    },
    {
      "cell_type": "code",
      "execution_count": null,
      "id": "5e0290a7",
      "metadata": {
        "id": "5e0290a7",
        "outputId": "d0429a72-8543-4287-995e-9e7d2928326e"
      },
      "outputs": [
        {
          "data": {
            "text/plain": [
              "<AxesSubplot:xlabel='longitude', ylabel='latitude'>"
            ]
          },
          "execution_count": 13,
          "metadata": {},
          "output_type": "execute_result"
        },
        {
          "data": {
            "image/png": "[encoded data removed]",
            "text/plain": [
              "<Figure size 432x288 with 1 Axes>"
            ]
          },
          "metadata": {
            "needs_background": "light"
          },
          "output_type": "display_data"
        }
      ],
      "source": [
        "housing.plot(kind=\"scatter\", x=\"longitude\", y=\"latitude\")"
      ]
    },
    {
      "cell_type": "code",
      "execution_count": null,
      "id": "f6d0d7c0",
      "metadata": {
        "id": "f6d0d7c0",
        "outputId": "fdc75d10-8cdc-467d-9ba8-f1cabe3cb4aa"
      },
      "outputs": [
        {
          "data": {
            "text/plain": [
              "<AxesSubplot:xlabel='longitude', ylabel='latitude'>"
            ]
          },
          "execution_count": 14,
          "metadata": {},
          "output_type": "execute_result"
        },
        {
          "data": {
            "image/png": "[encoded data removed]",
            "text/plain": [
              "<Figure size 432x288 with 1 Axes>"
            ]
          },
          "metadata": {
            "needs_background": "light"
          },
          "output_type": "display_data"
        }
      ],
      "source": [
        "# by decreasing the opacity of each point, you can observe where there is high density of data points.\n",
        "housing.plot(kind=\"scatter\", x=\"longitude\", y=\"latitude\", alpha=0.1)"
      ]
    },
    {
      "cell_type": "code",
      "execution_count": null,
      "id": "b1e22ca1",
      "metadata": {
        "id": "b1e22ca1",
        "outputId": "c182a76d-12b3-4743-bf88-1fdc16150707"
      },
      "outputs": [
        {
          "data": {
            "text/plain": [
              "<matplotlib.legend.Legend at 0x21955dfef70>"
            ]
          },
          "execution_count": 15,
          "metadata": {},
          "output_type": "execute_result"
        },
        {
          "data": {
            "image/png": "[encoded data removed]",
            "text/plain": [
              "<Figure size 432x288 with 2 Axes>"
            ]
          },
          "metadata": {
            "needs_background": "light"
          },
          "output_type": "display_data"
        }
      ],
      "source": [
        "housing.plot(kind=\"scatter\", x=\"longitude\", y=\"latitude\", alpha=0.4, \n",
        "             s=housing['population']/100, c=\"median_house_value\", label=\"population\",\n",
        "            cmap=plt.get_cmap('jet'), colorbar=True)\n",
        "plt.legend()"
      ]
    },
    {
      "cell_type": "markdown",
      "id": "215491a3",
      "metadata": {
        "id": "215491a3"
      },
      "source": [
        "`s` - the size of each data point. \n",
        "`c` - the color of each point.\n",
        "Therefore, with the above parameters, The size of each data point, `s` represents the **population** and The color of each point, `c` represents the **median_house_value**.\n",
        "\n",
        "From the plot, we can observe that the high density places have a higher median_house_value.\n",
        "\n",
        "This image tells you that the housing prices are very much related to the location and to the population density, as you probably knew already."
      ]
    },
    {
      "cell_type": "markdown",
      "id": "56b15fcb",
      "metadata": {
        "id": "56b15fcb"
      },
      "source": [
        "### Looking for correlations"
      ]
    },
    {
      "cell_type": "code",
      "execution_count": null,
      "id": "0d662037",
      "metadata": {
        "id": "0d662037"
      },
      "outputs": [],
      "source": [
        "corr_matrix = housing.corr()"
      ]
    },
    {
      "cell_type": "markdown",
      "id": "52828dae",
      "metadata": {
        "id": "52828dae"
      },
      "source": [
        "Now let’s look at how much each attribute correlates with the median house value:"
      ]
    },
    {
      "cell_type": "code",
      "execution_count": null,
      "id": "1a5d3b83",
      "metadata": {
        "id": "1a5d3b83",
        "outputId": "ed71676e-db8a-4510-8529-ee7fee443e5a"
      },
      "outputs": [
        {
          "data": {
            "text/plain": [
              "median_house_value    1.000000\n",
              "median_income         0.687151\n",
              "income_cat            0.642256\n",
              "total_rooms           0.135140\n",
              "housing_median_age    0.114146\n",
              "households            0.064590\n",
              "total_bedrooms        0.047781\n",
              "population           -0.026882\n",
              "longitude            -0.047466\n",
              "latitude             -0.142673\n",
              "Name: median_house_value, dtype: float64"
            ]
          },
          "execution_count": 18,
          "metadata": {},
          "output_type": "execute_result"
        }
      ],
      "source": [
        "corr_matrix[\"median_house_value\"].sort_values(ascending=False)"
      ]
    },
    {
      "cell_type": "markdown",
      "id": "1f6ecf0d",
      "metadata": {
        "id": "1f6ecf0d"
      },
      "source": [
        "The most promising attribute to predict the median house value is the median income, so let’s zoom in on their correlation scatterplot"
      ]
    },
    {
      "cell_type": "code",
      "execution_count": null,
      "id": "3fb93a54",
      "metadata": {
        "id": "3fb93a54",
        "outputId": "8148c2b1-1c43-4097-9425-dfdcae7ff4bc"
      },
      "outputs": [
        {
          "data": {
            "text/plain": [
              "<AxesSubplot:xlabel='median_income', ylabel='median_house_value'>"
            ]
          },
          "execution_count": 12,
          "metadata": {},
          "output_type": "execute_result"
        },
        {
          "data": {
            "image/png": "[encoded data removed]",
            "text/plain": [
              "<Figure size 432x288 with 1 Axes>"
            ]
          },
          "metadata": {
            "needs_background": "light"
          },
          "output_type": "display_data"
        }
      ],
      "source": [
        "housing.plot(kind=\"scatter\", x=\"median_income\", y=\"median_house_value\", alpha=0.2)"
      ]
    },
    {
      "cell_type": "markdown",
      "id": "64422436",
      "metadata": {
        "id": "64422436"
      },
      "source": [
        "Experimenting with feature combinations\n",
        "\n",
        "One last thing you may want to do before actually preparing the data for Machine Learning algorithms is to try out **various feature combinations**. For example, the total *number of rooms* in a district is not very useful if you don’t know how many\n",
        "*households* there are. What you really want is the **number of rooms per household**.\n"
      ]
    },
    {
      "cell_type": "code",
      "execution_count": null,
      "id": "93108940",
      "metadata": {
        "id": "93108940",
        "outputId": "deede30e-03b8-4f32-e8ff-51e32a299010"
      },
      "outputs": [
        {
          "name": "stdout",
          "output_type": "stream",
          "text": [
            "<class 'pandas.core.frame.DataFrame'>\n",
            "Int64Index: 16512 entries, 12655 to 19773\n",
            "Data columns (total 13 columns):\n",
            " #   Column                    Non-Null Count  Dtype  \n",
            "---  ------                    --------------  -----  \n",
            " 0   longitude                 16512 non-null  float64\n",
            " 1   latitude                  16512 non-null  float64\n",
            " 2   housing_median_age        16512 non-null  float64\n",
            " 3   total_rooms               16512 non-null  float64\n",
            " 4   total_bedrooms            16354 non-null  float64\n",
            " 5   population                16512 non-null  float64\n",
            " 6   households                16512 non-null  float64\n",
            " 7   median_income             16512 non-null  float64\n",
            " 8   median_house_value        16512 non-null  float64\n",
            " 9   ocean_proximity           16512 non-null  object \n",
            " 10  rooms_per_household       16512 non-null  float64\n",
            " 11  bedrooms_per_room         16354 non-null  float64\n",
            " 12  population_per_household  16512 non-null  float64\n",
            "dtypes: float64(12), object(1)\n",
            "memory usage: 1.8+ MB\n"
          ]
        }
      ],
      "source": [
        "housing[\"rooms_per_household\"] = housing[\"total_rooms\"] / housing[\"households\"]\n",
        "housing[\"bedrooms_per_room\"] = housing[\"total_bedrooms\"] / housing[\"total_rooms\"]\n",
        "housing[\"population_per_household\"] = housing[\"population\"] / housing[\"households\"]\n",
        "\n",
        "housing.info()"
      ]
    },
    {
      "cell_type": "code",
      "execution_count": null,
      "id": "556f254e",
      "metadata": {
        "id": "556f254e",
        "outputId": "2e8304ab-cb43-4b71-ff11-6a619a0148c7"
      },
      "outputs": [
        {
          "data": {
            "text/plain": [
              "median_house_value          1.000000\n",
              "median_income               0.687151\n",
              "rooms_per_household         0.146255\n",
              "total_rooms                 0.135140\n",
              "housing_median_age          0.114146\n",
              "households                  0.064590\n",
              "total_bedrooms              0.047781\n",
              "population_per_household   -0.021991\n",
              "population                 -0.026882\n",
              "longitude                  -0.047466\n",
              "latitude                   -0.142673\n",
              "bedrooms_per_room          -0.259952\n",
              "Name: median_house_value, dtype: float64"
            ]
          },
          "execution_count": 15,
          "metadata": {},
          "output_type": "execute_result"
        }
      ],
      "source": [
        "corr_matrix = housing.corr()\n",
        "corr_matrix[\"median_house_value\"].sort_values(ascending=False)"
      ]
    },
    {
      "cell_type": "markdown",
      "id": "ceaecdda",
      "metadata": {
        "id": "ceaecdda"
      },
      "source": [
        "The new bedrooms_per_room attribute is much more correlated with the median house value than the total number of rooms or bedrooms. \n",
        "\n",
        "Apparently houses with a lower bedroom/room ratio tend to be more expensive. The number of rooms per household is also more informative than the total number of rooms in a district—obviously the larger the houses, the more expensive they are. \n",
        "\n",
        "This round of exploration does not have to be absolutely thorough; the point is to start off on the right foot and quickly gain insights that will help you get a first reasonably good prototype. But this is an iterative process: once you get a prototype up and running, you can analyze its output to gain more insights and come back to this exploration step."
      ]
    },
    {
      "cell_type": "markdown",
      "id": "0cbccd55",
      "metadata": {
        "id": "0cbccd55"
      },
      "source": [
        "## Preparing data for Machine Learning Algorithms"
      ]
    },
    {
      "cell_type": "markdown",
      "id": "dd65aa8f",
      "metadata": {
        "id": "dd65aa8f"
      },
      "source": [
        "First, let’s revert to a clean training set (by copying strat_train_set once again), and let’s separate the predictors and the labels since we don’t necessarily want to apply the same transformations to the predictors and the target values."
      ]
    },
    {
      "cell_type": "code",
      "execution_count": 20,
      "id": "97a78f95",
      "metadata": {
        "id": "97a78f95"
      },
      "outputs": [],
      "source": [
        "# separating predictors and labels\n",
        "\n",
        "# predictors\n",
        "housing = strat_train_set.drop(\"median_house_value\", axis=1)   # creates a copy of the training set excluding the target values (median_house_value)\n",
        "\n",
        "# labels\n",
        "housing_labels = strat_train_set[\"median_house_value\"].copy()   # creates a copy of only the labels (median_house_value)"
      ]
    },
    {
      "cell_type": "markdown",
      "id": "d1fdd332",
      "metadata": {
        "id": "d1fdd332"
      },
      "source": [
        "(note that drop() creates a copy of the data and does not affect strat_train_set):"
      ]
    },
    {
      "cell_type": "markdown",
      "source": [
        "### Handling Missing features"
      ],
      "metadata": {
        "id": "heP_OxCF-XfS"
      },
      "id": "heP_OxCF-XfS"
    },
    {
      "cell_type": "markdown",
      "id": "28c6414c",
      "metadata": {
        "id": "28c6414c"
      },
      "source": [
        "Most Machine Learning algorithms cannot work with missing features, so let’s create a few functions to take care of them. You noticed earlier that the total_bedrooms attribute has some missing values, so let’s fix this. You have three options:\n",
        "\n",
        "• **Get rid of the corresponding districts.**\n",
        "\n",
        "• **Get rid of the whole attribute.**\n",
        "\n",
        "• **Set the values to some value (zero, the mean, the median, etc.).**\n",
        "\n",
        "You can accomplish these easily using DataFrame’s dropna(), drop(), and fillna() methods:\n",
        "\n",
        "`housing.dropna(subset=[\"total_bedrooms\"]) # option 1`\n",
        "\n",
        "`housing.drop(\"total_bedrooms\", axis=1) # option 2`\n",
        "\n",
        "`median = housing[\"total_bedrooms\"].median()`\n",
        "\n",
        "`housing[\"total_bedrooms\"].fillna(median) # option 3`\n",
        "\n",
        "If you choose option 3, you should compute the median value on the training set, and use it to fill the missing values in the training set, but also don’t forget to save the median value that you have computed. You will need it later to replace missing values in the test set when you want to evaluate your system, and also once the system goes live to replace missing values in new data."
      ]
    },
    {
      "cell_type": "markdown",
      "id": "fbdfbb88",
      "metadata": {
        "id": "fbdfbb88"
      },
      "source": [
        "Scikit-Learn provides a handy class to take care of missing values: **Imputer**. \n",
        "Here is how to use it. First, you need to create an Imputer instance, specifying that you want to replace each attribute’s missing values with the median of that attribute:"
      ]
    },
    {
      "cell_type": "code",
      "execution_count": 21,
      "id": "453ca2d3",
      "metadata": {
        "id": "453ca2d3",
        "outputId": "a23a88ab-3a7d-499c-d2b5-0afd30dd5128",
        "colab": {
          "base_uri": "https://localhost:8080/"
        }
      },
      "outputs": [
        {
          "output_type": "execute_result",
          "data": {
            "text/plain": [
              "['__class__',\n",
              " '__delattr__',\n",
              " '__dict__',\n",
              " '__dir__',\n",
              " '__doc__',\n",
              " '__eq__',\n",
              " '__format__',\n",
              " '__ge__',\n",
              " '__getattribute__',\n",
              " '__getstate__',\n",
              " '__gt__',\n",
              " '__hash__',\n",
              " '__init__',\n",
              " '__init_subclass__',\n",
              " '__le__',\n",
              " '__lt__',\n",
              " '__module__',\n",
              " '__ne__',\n",
              " '__new__',\n",
              " '__reduce__',\n",
              " '__reduce_ex__',\n",
              " '__repr__',\n",
              " '__setattr__',\n",
              " '__setstate__',\n",
              " '__sizeof__',\n",
              " '__str__',\n",
              " '__subclasshook__',\n",
              " '__weakref__',\n",
              " '_check_feature_names',\n",
              " '_check_n_features',\n",
              " '_concatenate_indicator',\n",
              " '_dense_fit',\n",
              " '_fit_indicator',\n",
              " '_get_param_names',\n",
              " '_get_tags',\n",
              " '_more_tags',\n",
              " '_repr_html_',\n",
              " '_repr_html_inner',\n",
              " '_repr_mimebundle_',\n",
              " '_sparse_fit',\n",
              " '_transform_indicator',\n",
              " '_validate_data',\n",
              " '_validate_input',\n",
              " 'add_indicator',\n",
              " 'copy',\n",
              " 'fill_value',\n",
              " 'fit',\n",
              " 'fit_transform',\n",
              " 'get_params',\n",
              " 'inverse_transform',\n",
              " 'missing_values',\n",
              " 'set_params',\n",
              " 'strategy',\n",
              " 'transform',\n",
              " 'verbose']"
            ]
          },
          "metadata": {},
          "execution_count": 21
        }
      ],
      "source": [
        "from sklearn.impute import SimpleImputer\n",
        "\n",
        "imputer = SimpleImputer(strategy=\"median\")\n",
        "dir(imputer)"
      ]
    },
    {
      "cell_type": "markdown",
      "id": "309df8f3",
      "metadata": {
        "id": "309df8f3"
      },
      "source": [
        "Since the median can only be computed on numerical attributes, we need to create a copy of the data without the text attribute ocean_proximity:"
      ]
    },
    {
      "cell_type": "code",
      "execution_count": 22,
      "id": "1d3dd726",
      "metadata": {
        "id": "1d3dd726",
        "outputId": "d4723e23-0e84-4624-96bd-92cbc10f3e59",
        "colab": {
          "base_uri": "https://localhost:8080/",
          "height": 423
        }
      },
      "outputs": [
        {
          "output_type": "execute_result",
          "data": {
            "text/html": [
              "\n",
              "  <div id=\"df-93c84f83-84e7-4c38-bb08-cccf4f76565c\">\n",
              "    <div class=\"colab-df-container\">\n",
              "      <div>\n",
              "<style scoped>\n",
              "    .dataframe tbody tr th:only-of-type {\n",
              "        vertical-align: middle;\n",
              "    }\n",
              "\n",
              "    .dataframe tbody tr th {\n",
              "        vertical-align: top;\n",
              "    }\n",
              "\n",
              "    .dataframe thead th {\n",
              "        text-align: right;\n",
              "    }\n",
              "</style>\n",
              "<table border=\"1\" class=\"dataframe\">\n",
              "  <thead>\n",
              "    <tr style=\"text-align: right;\">\n",
              "      <th></th>\n",
              "      <th>longitude</th>\n",
              "      <th>latitude</th>\n",
              "      <th>housing_median_age</th>\n",
              "      <th>total_rooms</th>\n",
              "      <th>total_bedrooms</th>\n",
              "      <th>population</th>\n",
              "      <th>households</th>\n",
              "      <th>median_income</th>\n",
              "    </tr>\n",
              "  </thead>\n",
              "  <tbody>\n",
              "    <tr>\n",
              "      <th>12655</th>\n",
              "      <td>-121.46</td>\n",
              "      <td>38.52</td>\n",
              "      <td>29.0</td>\n",
              "      <td>3873.0</td>\n",
              "      <td>797.0</td>\n",
              "      <td>2237.0</td>\n",
              "      <td>706.0</td>\n",
              "      <td>2.1736</td>\n",
              "    </tr>\n",
              "    <tr>\n",
              "      <th>15502</th>\n",
              "      <td>-117.23</td>\n",
              "      <td>33.09</td>\n",
              "      <td>7.0</td>\n",
              "      <td>5320.0</td>\n",
              "      <td>855.0</td>\n",
              "      <td>2015.0</td>\n",
              "      <td>768.0</td>\n",
              "      <td>6.3373</td>\n",
              "    </tr>\n",
              "    <tr>\n",
              "      <th>2908</th>\n",
              "      <td>-119.04</td>\n",
              "      <td>35.37</td>\n",
              "      <td>44.0</td>\n",
              "      <td>1618.0</td>\n",
              "      <td>310.0</td>\n",
              "      <td>667.0</td>\n",
              "      <td>300.0</td>\n",
              "      <td>2.8750</td>\n",
              "    </tr>\n",
              "    <tr>\n",
              "      <th>14053</th>\n",
              "      <td>-117.13</td>\n",
              "      <td>32.75</td>\n",
              "      <td>24.0</td>\n",
              "      <td>1877.0</td>\n",
              "      <td>519.0</td>\n",
              "      <td>898.0</td>\n",
              "      <td>483.0</td>\n",
              "      <td>2.2264</td>\n",
              "    </tr>\n",
              "    <tr>\n",
              "      <th>20496</th>\n",
              "      <td>-118.70</td>\n",
              "      <td>34.28</td>\n",
              "      <td>27.0</td>\n",
              "      <td>3536.0</td>\n",
              "      <td>646.0</td>\n",
              "      <td>1837.0</td>\n",
              "      <td>580.0</td>\n",
              "      <td>4.4964</td>\n",
              "    </tr>\n",
              "    <tr>\n",
              "      <th>...</th>\n",
              "      <td>...</td>\n",
              "      <td>...</td>\n",
              "      <td>...</td>\n",
              "      <td>...</td>\n",
              "      <td>...</td>\n",
              "      <td>...</td>\n",
              "      <td>...</td>\n",
              "      <td>...</td>\n",
              "    </tr>\n",
              "    <tr>\n",
              "      <th>15174</th>\n",
              "      <td>-117.07</td>\n",
              "      <td>33.03</td>\n",
              "      <td>14.0</td>\n",
              "      <td>6665.0</td>\n",
              "      <td>1231.0</td>\n",
              "      <td>2026.0</td>\n",
              "      <td>1001.0</td>\n",
              "      <td>5.0900</td>\n",
              "    </tr>\n",
              "    <tr>\n",
              "      <th>12661</th>\n",
              "      <td>-121.42</td>\n",
              "      <td>38.51</td>\n",
              "      <td>15.0</td>\n",
              "      <td>7901.0</td>\n",
              "      <td>1422.0</td>\n",
              "      <td>4769.0</td>\n",
              "      <td>1418.0</td>\n",
              "      <td>2.8139</td>\n",
              "    </tr>\n",
              "    <tr>\n",
              "      <th>19263</th>\n",
              "      <td>-122.72</td>\n",
              "      <td>38.44</td>\n",
              "      <td>48.0</td>\n",
              "      <td>707.0</td>\n",
              "      <td>166.0</td>\n",
              "      <td>458.0</td>\n",
              "      <td>172.0</td>\n",
              "      <td>3.1797</td>\n",
              "    </tr>\n",
              "    <tr>\n",
              "      <th>19140</th>\n",
              "      <td>-122.70</td>\n",
              "      <td>38.31</td>\n",
              "      <td>14.0</td>\n",
              "      <td>3155.0</td>\n",
              "      <td>580.0</td>\n",
              "      <td>1208.0</td>\n",
              "      <td>501.0</td>\n",
              "      <td>4.1964</td>\n",
              "    </tr>\n",
              "    <tr>\n",
              "      <th>19773</th>\n",
              "      <td>-122.14</td>\n",
              "      <td>39.97</td>\n",
              "      <td>27.0</td>\n",
              "      <td>1079.0</td>\n",
              "      <td>222.0</td>\n",
              "      <td>625.0</td>\n",
              "      <td>197.0</td>\n",
              "      <td>3.1319</td>\n",
              "    </tr>\n",
              "  </tbody>\n",
              "</table>\n",
              "<p>16512 rows × 8 columns</p>\n",
              "</div>\n",
              "      <button class=\"colab-df-convert\" onclick=\"convertToInteractive('df-93c84f83-84e7-4c38-bb08-cccf4f76565c')\"\n",
              "              title=\"Convert this dataframe to an interactive table.\"\n",
              "              style=\"display:none;\">\n",
              "        \n",
              "  <svg xmlns=\"http://www.w3.org/2000/svg\" height=\"24px\"viewBox=\"0 0 24 24\"\n",
              "       width=\"24px\">\n",
              "    <path d=\"M0 0h24v24H0V0z\" fill=\"none\"/>\n",
              "    <path d=\"M18.56 5.44l.94 2.06.94-2.06 2.06-.94-2.06-.94-.94-2.06-.94 2.06-2.06.94zm-11 1L8.5 8.5l.94-2.06 2.06-.94-2.06-.94L8.5 2.5l-.94 2.06-2.06.94zm10 10l.94 2.06.94-2.06 2.06-.94-2.06-.94-.94-2.06-.94 2.06-2.06.94z\"/><path d=\"M17.41 7.96l-1.37-1.37c-.4-.4-.92-.59-1.43-.59-.52 0-1.04.2-1.43.59L10.3 9.45l-7.72 7.72c-.78.78-.78 2.05 0 2.83L4 21.41c.39.39.9.59 1.41.59.51 0 1.02-.2 1.41-.59l7.78-7.78 2.81-2.81c.8-.78.8-2.07 0-2.86zM5.41 20L4 18.59l7.72-7.72 1.47 1.35L5.41 20z\"/>\n",
              "  </svg>\n",
              "      </button>\n",
              "      \n",
              "  <style>\n",
              "    .colab-df-container {\n",
              "      display:flex;\n",
              "      flex-wrap:wrap;\n",
              "      gap: 12px;\n",
              "    }\n",
              "\n",
              "    .colab-df-convert {\n",
              "      background-color: #E8F0FE;\n",
              "      border: none;\n",
              "      border-radius: 50%;\n",
              "      cursor: pointer;\n",
              "      display: none;\n",
              "      fill: #1967D2;\n",
              "      height: 32px;\n",
              "      padding: 0 0 0 0;\n",
              "      width: 32px;\n",
              "    }\n",
              "\n",
              "    .colab-df-convert:hover {\n",
              "      background-color: #E2EBFA;\n",
              "      box-shadow: 0px 1px 2px rgba(60, 64, 67, 0.3), 0px 1px 3px 1px rgba(60, 64, 67, 0.15);\n",
              "      fill: #174EA6;\n",
              "    }\n",
              "\n",
              "    [theme=dark] .colab-df-convert {\n",
              "      background-color: #3B4455;\n",
              "      fill: #D2E3FC;\n",
              "    }\n",
              "\n",
              "    [theme=dark] .colab-df-convert:hover {\n",
              "      background-color: #434B5C;\n",
              "      box-shadow: 0px 1px 3px 1px rgba(0, 0, 0, 0.15);\n",
              "      filter: drop-shadow(0px 1px 2px rgba(0, 0, 0, 0.3));\n",
              "      fill: #FFFFFF;\n",
              "    }\n",
              "  </style>\n",
              "\n",
              "      <script>\n",
              "        const buttonEl =\n",
              "          document.querySelector('#df-93c84f83-84e7-4c38-bb08-cccf4f76565c button.colab-df-convert');\n",
              "        buttonEl.style.display =\n",
              "          google.colab.kernel.accessAllowed ? 'block' : 'none';\n",
              "\n",
              "        async function convertToInteractive(key) {\n",
              "          const element = document.querySelector('#df-93c84f83-84e7-4c38-bb08-cccf4f76565c');\n",
              "          const dataTable =\n",
              "            await google.colab.kernel.invokeFunction('convertToInteractive',\n",
              "                                                     [key], {});\n",
              "          if (!dataTable) return;\n",
              "\n",
              "          const docLinkHtml = 'Like what you see? Visit the ' +\n",
              "            '<a target=\"_blank\" href=https://colab.research.google.com/notebooks/data_table.ipynb>data table notebook</a>'\n",
              "            + ' to learn more about interactive tables.';\n",
              "          element.innerHTML = '';\n",
              "          dataTable['output_type'] = 'display_data';\n",
              "          await google.colab.output.renderOutput(dataTable, element);\n",
              "          const docLink = document.createElement('div');\n",
              "          docLink.innerHTML = docLinkHtml;\n",
              "          element.appendChild(docLink);\n",
              "        }\n",
              "      </script>\n",
              "    </div>\n",
              "  </div>\n",
              "  "
            ],
            "text/plain": [
              "       longitude  latitude  ...  households  median_income\n",
              "12655    -121.46     38.52  ...       706.0         2.1736\n",
              "15502    -117.23     33.09  ...       768.0         6.3373\n",
              "2908     -119.04     35.37  ...       300.0         2.8750\n",
              "14053    -117.13     32.75  ...       483.0         2.2264\n",
              "20496    -118.70     34.28  ...       580.0         4.4964\n",
              "...          ...       ...  ...         ...            ...\n",
              "15174    -117.07     33.03  ...      1001.0         5.0900\n",
              "12661    -121.42     38.51  ...      1418.0         2.8139\n",
              "19263    -122.72     38.44  ...       172.0         3.1797\n",
              "19140    -122.70     38.31  ...       501.0         4.1964\n",
              "19773    -122.14     39.97  ...       197.0         3.1319\n",
              "\n",
              "[16512 rows x 8 columns]"
            ]
          },
          "metadata": {},
          "execution_count": 22
        }
      ],
      "source": [
        "housing_num = housing.drop(\"ocean_proximity\", axis=1)\n",
        "housing_num"
      ]
    },
    {
      "cell_type": "markdown",
      "id": "82ec91c3",
      "metadata": {
        "id": "82ec91c3"
      },
      "source": [
        "fit the imputer instance to the training data using the fit() method:"
      ]
    },
    {
      "cell_type": "code",
      "execution_count": 23,
      "id": "bc25d675",
      "metadata": {
        "id": "bc25d675",
        "outputId": "f9133994-e5c5-4543-cbcf-31ae45d88aad",
        "colab": {
          "base_uri": "https://localhost:8080/"
        }
      },
      "outputs": [
        {
          "output_type": "execute_result",
          "data": {
            "text/plain": [
              "SimpleImputer(strategy='median')"
            ]
          },
          "metadata": {},
          "execution_count": 23
        }
      ],
      "source": [
        "imputer.fit(housing_num)"
      ]
    },
    {
      "cell_type": "markdown",
      "id": "7aaead9d",
      "metadata": {
        "id": "7aaead9d"
      },
      "source": [
        "The **imputer** has simply computed the median of each attribute and stored the result in its `statistics_` instance variable. Only the total_bedrooms attribute had missing values, but we cannot be sure that there won’t be any missing values in new data after the system goes live, so it is safer to apply the imputer to all the numerical attributes:"
      ]
    },
    {
      "cell_type": "code",
      "execution_count": 24,
      "id": "ab1e27af",
      "metadata": {
        "id": "ab1e27af",
        "outputId": "75150d88-45e6-4895-833a-f0d8dc41b6fb",
        "colab": {
          "base_uri": "https://localhost:8080/"
        }
      },
      "outputs": [
        {
          "output_type": "execute_result",
          "data": {
            "text/plain": [
              "array([-118.51   ,   34.26   ,   29.     , 2119.     ,  433.     ,\n",
              "       1164.     ,  408.     ,    3.54155])"
            ]
          },
          "metadata": {},
          "execution_count": 24
        }
      ],
      "source": [
        "imputer.statistics_    # computed median values of all features."
      ]
    },
    {
      "cell_type": "markdown",
      "id": "82d98a2c",
      "metadata": {
        "id": "82d98a2c"
      },
      "source": [
        "Now you can use this “trained” imputer to transform the training set by replacing missing values by the learned medians:"
      ]
    },
    {
      "cell_type": "code",
      "execution_count": 25,
      "id": "b4ad3641",
      "metadata": {
        "id": "b4ad3641",
        "outputId": "252f9e98-8f91-41d4-efa0-2f450daf049a",
        "colab": {
          "base_uri": "https://localhost:8080/"
        }
      },
      "outputs": [
        {
          "output_type": "execute_result",
          "data": {
            "text/plain": [
              "array([[-1.2146e+02,  3.8520e+01,  2.9000e+01, ...,  2.2370e+03,\n",
              "         7.0600e+02,  2.1736e+00],\n",
              "       [-1.1723e+02,  3.3090e+01,  7.0000e+00, ...,  2.0150e+03,\n",
              "         7.6800e+02,  6.3373e+00],\n",
              "       [-1.1904e+02,  3.5370e+01,  4.4000e+01, ...,  6.6700e+02,\n",
              "         3.0000e+02,  2.8750e+00],\n",
              "       ...,\n",
              "       [-1.2272e+02,  3.8440e+01,  4.8000e+01, ...,  4.5800e+02,\n",
              "         1.7200e+02,  3.1797e+00],\n",
              "       [-1.2270e+02,  3.8310e+01,  1.4000e+01, ...,  1.2080e+03,\n",
              "         5.0100e+02,  4.1964e+00],\n",
              "       [-1.2214e+02,  3.9970e+01,  2.7000e+01, ...,  6.2500e+02,\n",
              "         1.9700e+02,  3.1319e+00]])"
            ]
          },
          "metadata": {},
          "execution_count": 25
        }
      ],
      "source": [
        "X = imputer.transform(housing_num)    # replaces missing values by the learned medians.\n",
        "X"
      ]
    },
    {
      "cell_type": "markdown",
      "id": "f0eadbf1",
      "metadata": {
        "id": "f0eadbf1"
      },
      "source": [
        "The result is a plain Numpy array containing the transformed features. If you want to put it back into a Pandas DataFrame, it’s simple:"
      ]
    },
    {
      "cell_type": "code",
      "execution_count": 26,
      "id": "568e7f3d",
      "metadata": {
        "id": "568e7f3d"
      },
      "outputs": [],
      "source": [
        "housing_tr = pd.DataFrame(X, columns=housing_num.columns)"
      ]
    },
    {
      "cell_type": "code",
      "execution_count": 27,
      "id": "fcaba621",
      "metadata": {
        "id": "fcaba621",
        "outputId": "3377c6eb-334a-4321-95ab-28e1a727b24b",
        "colab": {
          "base_uri": "https://localhost:8080/"
        }
      },
      "outputs": [
        {
          "output_type": "stream",
          "name": "stdout",
          "text": [
            "<class 'pandas.core.frame.DataFrame'>\n",
            "RangeIndex: 16512 entries, 0 to 16511\n",
            "Data columns (total 8 columns):\n",
            " #   Column              Non-Null Count  Dtype  \n",
            "---  ------              --------------  -----  \n",
            " 0   longitude           16512 non-null  float64\n",
            " 1   latitude            16512 non-null  float64\n",
            " 2   housing_median_age  16512 non-null  float64\n",
            " 3   total_rooms         16512 non-null  float64\n",
            " 4   total_bedrooms      16512 non-null  float64\n",
            " 5   population          16512 non-null  float64\n",
            " 6   households          16512 non-null  float64\n",
            " 7   median_income       16512 non-null  float64\n",
            "dtypes: float64(8)\n",
            "memory usage: 1.0 MB\n"
          ]
        }
      ],
      "source": [
        "housing_tr.info()"
      ]
    },
    {
      "cell_type": "markdown",
      "id": "34340b96",
      "metadata": {
        "id": "34340b96"
      },
      "source": [
        "### Handling Text and Categorical Attributes\n",
        "\n",
        "Earlier we left out the categorical attribute ocean_proximity because it is a text attribute so we cannot compute its median. \n",
        "\n",
        "Most Machine Learning algorithms prefer to work with numbers anyway, so let’s convert these text labels to numbers. \n"
      ]
    },
    {
      "cell_type": "markdown",
      "id": "417c7e7d",
      "metadata": {
        "id": "417c7e7d"
      },
      "source": [
        "### Integer Encoding\n",
        "Assigning numbers to labels or categorical data.\n",
        "\n",
        "**Machine learning algorithms cannot work with categorical data directly. Categorical data must be converted to numbers.**\n",
        "\n",
        "Scikit-Learn provides a transformer for this task called `LabelEncoder`:"
      ]
    },
    {
      "cell_type": "code",
      "execution_count": 28,
      "id": "4cc546a6",
      "metadata": {
        "id": "4cc546a6"
      },
      "outputs": [],
      "source": [
        "from sklearn.preprocessing import LabelEncoder\n",
        "# an instance\n",
        "encoder = LabelEncoder()\n",
        "housing_cat = housing[\"ocean_proximity\"]   # a copy of only the ocean_proximity feature (text/categorical attribute)\n",
        "housing_cat_encoded = encoder.fit_transform(housing_cat)"
      ]
    },
    {
      "cell_type": "code",
      "execution_count": 29,
      "id": "d09ba17f",
      "metadata": {
        "id": "d09ba17f",
        "outputId": "4139c0a1-533a-41bb-84bd-2daf072f2885",
        "colab": {
          "base_uri": "https://localhost:8080/"
        }
      },
      "outputs": [
        {
          "output_type": "execute_result",
          "data": {
            "text/plain": [
              "array([1, 4, 1, ..., 0, 0, 1])"
            ]
          },
          "metadata": {},
          "execution_count": 29
        }
      ],
      "source": [
        "housing_cat_encoded"
      ]
    },
    {
      "cell_type": "code",
      "execution_count": 30,
      "id": "aaf5ab1e",
      "metadata": {
        "id": "aaf5ab1e",
        "outputId": "b02ddb9f-85db-4993-fc15-feccca32a509",
        "colab": {
          "base_uri": "https://localhost:8080/"
        }
      },
      "outputs": [
        {
          "output_type": "execute_result",
          "data": {
            "text/plain": [
              "12655        INLAND\n",
              "15502    NEAR OCEAN\n",
              "2908         INLAND\n",
              "14053    NEAR OCEAN\n",
              "20496     <1H OCEAN\n",
              "            ...    \n",
              "15174     <1H OCEAN\n",
              "12661        INLAND\n",
              "19263     <1H OCEAN\n",
              "19140     <1H OCEAN\n",
              "19773        INLAND\n",
              "Name: ocean_proximity, Length: 16512, dtype: object"
            ]
          },
          "metadata": {},
          "execution_count": 30
        }
      ],
      "source": [
        "housing_cat"
      ]
    },
    {
      "cell_type": "markdown",
      "id": "dcb592e9",
      "metadata": {
        "id": "dcb592e9"
      },
      "source": [
        "This is better: now we can use this numerical data in any ML algorithm. \n",
        "    \n",
        "You can look at the mapping that this encoder has learned using the `classes_` attribute (“<1H OCEAN” is mapped to 0, “INLAND” is mapped to 1, etc.):"
      ]
    },
    {
      "cell_type": "code",
      "execution_count": 31,
      "id": "3a81f960",
      "metadata": {
        "id": "3a81f960",
        "outputId": "8c90dad1-4e64-4700-9de1-9877e2b44ed2",
        "colab": {
          "base_uri": "https://localhost:8080/"
        }
      },
      "outputs": [
        {
          "output_type": "execute_result",
          "data": {
            "text/plain": [
              "array(['<1H OCEAN', 'INLAND', 'ISLAND', 'NEAR BAY', 'NEAR OCEAN'],\n",
              "      dtype=object)"
            ]
          },
          "metadata": {},
          "execution_count": 31
        }
      ],
      "source": [
        "encoder.classes_"
      ]
    },
    {
      "cell_type": "markdown",
      "id": "67519959",
      "metadata": {
        "id": "67519959"
      },
      "source": [
        "### One hot encoding"
      ]
    },
    {
      "cell_type": "code",
      "execution_count": 32,
      "id": "8395738d",
      "metadata": {
        "id": "8395738d",
        "outputId": "60daec84-2b58-4fed-e50a-9ee321fe0624",
        "colab": {
          "base_uri": "https://localhost:8080/"
        }
      },
      "outputs": [
        {
          "output_type": "execute_result",
          "data": {
            "text/plain": [
              "<16512x5 sparse matrix of type '<class 'numpy.float64'>'\n",
              "\twith 16512 stored elements in Compressed Sparse Row format>"
            ]
          },
          "metadata": {},
          "execution_count": 32
        }
      ],
      "source": [
        "from sklearn.preprocessing import OneHotEncoder\n",
        "encoder = OneHotEncoder()\n",
        "housing_cat_1hot = encoder.fit_transform(housing_cat_encoded.reshape(-1, 1))\n",
        "housing_cat_1hot"
      ]
    },
    {
      "cell_type": "code",
      "execution_count": 33,
      "id": "8d0e7c65",
      "metadata": {
        "id": "8d0e7c65",
        "outputId": "9a48142f-aefe-4eee-dd5d-219485f40d21",
        "colab": {
          "base_uri": "https://localhost:8080/"
        }
      },
      "outputs": [
        {
          "output_type": "execute_result",
          "data": {
            "text/plain": [
              "array([[0., 1., 0., 0., 0.],\n",
              "       [0., 0., 0., 0., 1.],\n",
              "       [0., 1., 0., 0., 0.],\n",
              "       ...,\n",
              "       [1., 0., 0., 0., 0.],\n",
              "       [1., 0., 0., 0., 0.],\n",
              "       [0., 1., 0., 0., 0.]])"
            ]
          },
          "metadata": {},
          "execution_count": 33
        }
      ],
      "source": [
        "housing_cat_1hot.toarray()"
      ]
    },
    {
      "cell_type": "code",
      "execution_count": 34,
      "id": "7ad6c560",
      "metadata": {
        "id": "7ad6c560",
        "outputId": "49b817b8-15a1-4fce-b259-32dc88429d52",
        "colab": {
          "base_uri": "https://localhost:8080/",
          "height": 423
        }
      },
      "outputs": [
        {
          "output_type": "execute_result",
          "data": {
            "text/html": [
              "\n",
              "  <div id=\"df-8a26e796-dd74-4352-a9a8-3db4c720b81f\">\n",
              "    <div class=\"colab-df-container\">\n",
              "      <div>\n",
              "<style scoped>\n",
              "    .dataframe tbody tr th:only-of-type {\n",
              "        vertical-align: middle;\n",
              "    }\n",
              "\n",
              "    .dataframe tbody tr th {\n",
              "        vertical-align: top;\n",
              "    }\n",
              "\n",
              "    .dataframe thead th {\n",
              "        text-align: right;\n",
              "    }\n",
              "</style>\n",
              "<table border=\"1\" class=\"dataframe\">\n",
              "  <thead>\n",
              "    <tr style=\"text-align: right;\">\n",
              "      <th></th>\n",
              "      <th>longitude</th>\n",
              "      <th>latitude</th>\n",
              "      <th>housing_median_age</th>\n",
              "      <th>total_rooms</th>\n",
              "      <th>total_bedrooms</th>\n",
              "      <th>population</th>\n",
              "      <th>households</th>\n",
              "      <th>median_income</th>\n",
              "      <th>ocean_proximity</th>\n",
              "    </tr>\n",
              "  </thead>\n",
              "  <tbody>\n",
              "    <tr>\n",
              "      <th>12655</th>\n",
              "      <td>-121.46</td>\n",
              "      <td>38.52</td>\n",
              "      <td>29.0</td>\n",
              "      <td>3873.0</td>\n",
              "      <td>797.0</td>\n",
              "      <td>2237.0</td>\n",
              "      <td>706.0</td>\n",
              "      <td>2.1736</td>\n",
              "      <td>INLAND</td>\n",
              "    </tr>\n",
              "    <tr>\n",
              "      <th>15502</th>\n",
              "      <td>-117.23</td>\n",
              "      <td>33.09</td>\n",
              "      <td>7.0</td>\n",
              "      <td>5320.0</td>\n",
              "      <td>855.0</td>\n",
              "      <td>2015.0</td>\n",
              "      <td>768.0</td>\n",
              "      <td>6.3373</td>\n",
              "      <td>NEAR OCEAN</td>\n",
              "    </tr>\n",
              "    <tr>\n",
              "      <th>2908</th>\n",
              "      <td>-119.04</td>\n",
              "      <td>35.37</td>\n",
              "      <td>44.0</td>\n",
              "      <td>1618.0</td>\n",
              "      <td>310.0</td>\n",
              "      <td>667.0</td>\n",
              "      <td>300.0</td>\n",
              "      <td>2.8750</td>\n",
              "      <td>INLAND</td>\n",
              "    </tr>\n",
              "    <tr>\n",
              "      <th>14053</th>\n",
              "      <td>-117.13</td>\n",
              "      <td>32.75</td>\n",
              "      <td>24.0</td>\n",
              "      <td>1877.0</td>\n",
              "      <td>519.0</td>\n",
              "      <td>898.0</td>\n",
              "      <td>483.0</td>\n",
              "      <td>2.2264</td>\n",
              "      <td>NEAR OCEAN</td>\n",
              "    </tr>\n",
              "    <tr>\n",
              "      <th>20496</th>\n",
              "      <td>-118.70</td>\n",
              "      <td>34.28</td>\n",
              "      <td>27.0</td>\n",
              "      <td>3536.0</td>\n",
              "      <td>646.0</td>\n",
              "      <td>1837.0</td>\n",
              "      <td>580.0</td>\n",
              "      <td>4.4964</td>\n",
              "      <td>&lt;1H OCEAN</td>\n",
              "    </tr>\n",
              "    <tr>\n",
              "      <th>...</th>\n",
              "      <td>...</td>\n",
              "      <td>...</td>\n",
              "      <td>...</td>\n",
              "      <td>...</td>\n",
              "      <td>...</td>\n",
              "      <td>...</td>\n",
              "      <td>...</td>\n",
              "      <td>...</td>\n",
              "      <td>...</td>\n",
              "    </tr>\n",
              "    <tr>\n",
              "      <th>15174</th>\n",
              "      <td>-117.07</td>\n",
              "      <td>33.03</td>\n",
              "      <td>14.0</td>\n",
              "      <td>6665.0</td>\n",
              "      <td>1231.0</td>\n",
              "      <td>2026.0</td>\n",
              "      <td>1001.0</td>\n",
              "      <td>5.0900</td>\n",
              "      <td>&lt;1H OCEAN</td>\n",
              "    </tr>\n",
              "    <tr>\n",
              "      <th>12661</th>\n",
              "      <td>-121.42</td>\n",
              "      <td>38.51</td>\n",
              "      <td>15.0</td>\n",
              "      <td>7901.0</td>\n",
              "      <td>1422.0</td>\n",
              "      <td>4769.0</td>\n",
              "      <td>1418.0</td>\n",
              "      <td>2.8139</td>\n",
              "      <td>INLAND</td>\n",
              "    </tr>\n",
              "    <tr>\n",
              "      <th>19263</th>\n",
              "      <td>-122.72</td>\n",
              "      <td>38.44</td>\n",
              "      <td>48.0</td>\n",
              "      <td>707.0</td>\n",
              "      <td>166.0</td>\n",
              "      <td>458.0</td>\n",
              "      <td>172.0</td>\n",
              "      <td>3.1797</td>\n",
              "      <td>&lt;1H OCEAN</td>\n",
              "    </tr>\n",
              "    <tr>\n",
              "      <th>19140</th>\n",
              "      <td>-122.70</td>\n",
              "      <td>38.31</td>\n",
              "      <td>14.0</td>\n",
              "      <td>3155.0</td>\n",
              "      <td>580.0</td>\n",
              "      <td>1208.0</td>\n",
              "      <td>501.0</td>\n",
              "      <td>4.1964</td>\n",
              "      <td>&lt;1H OCEAN</td>\n",
              "    </tr>\n",
              "    <tr>\n",
              "      <th>19773</th>\n",
              "      <td>-122.14</td>\n",
              "      <td>39.97</td>\n",
              "      <td>27.0</td>\n",
              "      <td>1079.0</td>\n",
              "      <td>222.0</td>\n",
              "      <td>625.0</td>\n",
              "      <td>197.0</td>\n",
              "      <td>3.1319</td>\n",
              "      <td>INLAND</td>\n",
              "    </tr>\n",
              "  </tbody>\n",
              "</table>\n",
              "<p>16512 rows × 9 columns</p>\n",
              "</div>\n",
              "      <button class=\"colab-df-convert\" onclick=\"convertToInteractive('df-8a26e796-dd74-4352-a9a8-3db4c720b81f')\"\n",
              "              title=\"Convert this dataframe to an interactive table.\"\n",
              "              style=\"display:none;\">\n",
              "        \n",
              "  <svg xmlns=\"http://www.w3.org/2000/svg\" height=\"24px\"viewBox=\"0 0 24 24\"\n",
              "       width=\"24px\">\n",
              "    <path d=\"M0 0h24v24H0V0z\" fill=\"none\"/>\n",
              "    <path d=\"M18.56 5.44l.94 2.06.94-2.06 2.06-.94-2.06-.94-.94-2.06-.94 2.06-2.06.94zm-11 1L8.5 8.5l.94-2.06 2.06-.94-2.06-.94L8.5 2.5l-.94 2.06-2.06.94zm10 10l.94 2.06.94-2.06 2.06-.94-2.06-.94-.94-2.06-.94 2.06-2.06.94z\"/><path d=\"M17.41 7.96l-1.37-1.37c-.4-.4-.92-.59-1.43-.59-.52 0-1.04.2-1.43.59L10.3 9.45l-7.72 7.72c-.78.78-.78 2.05 0 2.83L4 21.41c.39.39.9.59 1.41.59.51 0 1.02-.2 1.41-.59l7.78-7.78 2.81-2.81c.8-.78.8-2.07 0-2.86zM5.41 20L4 18.59l7.72-7.72 1.47 1.35L5.41 20z\"/>\n",
              "  </svg>\n",
              "      </button>\n",
              "      \n",
              "  <style>\n",
              "    .colab-df-container {\n",
              "      display:flex;\n",
              "      flex-wrap:wrap;\n",
              "      gap: 12px;\n",
              "    }\n",
              "\n",
              "    .colab-df-convert {\n",
              "      background-color: #E8F0FE;\n",
              "      border: none;\n",
              "      border-radius: 50%;\n",
              "      cursor: pointer;\n",
              "      display: none;\n",
              "      fill: #1967D2;\n",
              "      height: 32px;\n",
              "      padding: 0 0 0 0;\n",
              "      width: 32px;\n",
              "    }\n",
              "\n",
              "    .colab-df-convert:hover {\n",
              "      background-color: #E2EBFA;\n",
              "      box-shadow: 0px 1px 2px rgba(60, 64, 67, 0.3), 0px 1px 3px 1px rgba(60, 64, 67, 0.15);\n",
              "      fill: #174EA6;\n",
              "    }\n",
              "\n",
              "    [theme=dark] .colab-df-convert {\n",
              "      background-color: #3B4455;\n",
              "      fill: #D2E3FC;\n",
              "    }\n",
              "\n",
              "    [theme=dark] .colab-df-convert:hover {\n",
              "      background-color: #434B5C;\n",
              "      box-shadow: 0px 1px 3px 1px rgba(0, 0, 0, 0.15);\n",
              "      filter: drop-shadow(0px 1px 2px rgba(0, 0, 0, 0.3));\n",
              "      fill: #FFFFFF;\n",
              "    }\n",
              "  </style>\n",
              "\n",
              "      <script>\n",
              "        const buttonEl =\n",
              "          document.querySelector('#df-8a26e796-dd74-4352-a9a8-3db4c720b81f button.colab-df-convert');\n",
              "        buttonEl.style.display =\n",
              "          google.colab.kernel.accessAllowed ? 'block' : 'none';\n",
              "\n",
              "        async function convertToInteractive(key) {\n",
              "          const element = document.querySelector('#df-8a26e796-dd74-4352-a9a8-3db4c720b81f');\n",
              "          const dataTable =\n",
              "            await google.colab.kernel.invokeFunction('convertToInteractive',\n",
              "                                                     [key], {});\n",
              "          if (!dataTable) return;\n",
              "\n",
              "          const docLinkHtml = 'Like what you see? Visit the ' +\n",
              "            '<a target=\"_blank\" href=https://colab.research.google.com/notebooks/data_table.ipynb>data table notebook</a>'\n",
              "            + ' to learn more about interactive tables.';\n",
              "          element.innerHTML = '';\n",
              "          dataTable['output_type'] = 'display_data';\n",
              "          await google.colab.output.renderOutput(dataTable, element);\n",
              "          const docLink = document.createElement('div');\n",
              "          docLink.innerHTML = docLinkHtml;\n",
              "          element.appendChild(docLink);\n",
              "        }\n",
              "      </script>\n",
              "    </div>\n",
              "  </div>\n",
              "  "
            ],
            "text/plain": [
              "       longitude  latitude  ...  median_income  ocean_proximity\n",
              "12655    -121.46     38.52  ...         2.1736           INLAND\n",
              "15502    -117.23     33.09  ...         6.3373       NEAR OCEAN\n",
              "2908     -119.04     35.37  ...         2.8750           INLAND\n",
              "14053    -117.13     32.75  ...         2.2264       NEAR OCEAN\n",
              "20496    -118.70     34.28  ...         4.4964        <1H OCEAN\n",
              "...          ...       ...  ...            ...              ...\n",
              "15174    -117.07     33.03  ...         5.0900        <1H OCEAN\n",
              "12661    -121.42     38.51  ...         2.8139           INLAND\n",
              "19263    -122.72     38.44  ...         3.1797        <1H OCEAN\n",
              "19140    -122.70     38.31  ...         4.1964        <1H OCEAN\n",
              "19773    -122.14     39.97  ...         3.1319           INLAND\n",
              "\n",
              "[16512 rows x 9 columns]"
            ]
          },
          "metadata": {},
          "execution_count": 34
        }
      ],
      "source": [
        "housing"
      ]
    },
    {
      "cell_type": "code",
      "execution_count": 35,
      "id": "fdc1b9c9",
      "metadata": {
        "id": "fdc1b9c9",
        "outputId": "b75cebc7-d146-4625-d661-411fc4c6ccfb",
        "colab": {
          "base_uri": "https://localhost:8080/"
        }
      },
      "outputs": [
        {
          "output_type": "execute_result",
          "data": {
            "text/plain": [
              "array([[-121.46, 38.52, 29.0, ..., 706.0, 2.1736, 'INLAND'],\n",
              "       [-117.23, 33.09, 7.0, ..., 768.0, 6.3373, 'NEAR OCEAN'],\n",
              "       [-119.04, 35.37, 44.0, ..., 300.0, 2.875, 'INLAND'],\n",
              "       ...,\n",
              "       [-122.72, 38.44, 48.0, ..., 172.0, 3.1797, '<1H OCEAN'],\n",
              "       [-122.7, 38.31, 14.0, ..., 501.0, 4.1964, '<1H OCEAN'],\n",
              "       [-122.14, 39.97, 27.0, ..., 197.0, 3.1319, 'INLAND']], dtype=object)"
            ]
          },
          "metadata": {},
          "execution_count": 35
        }
      ],
      "source": [
        "housing.values"
      ]
    },
    {
      "cell_type": "markdown",
      "id": "b6ceefa5",
      "metadata": {
        "id": "b6ceefa5"
      },
      "source": [
        "### Custom Transformers\n",
        "\n",
        "Although Scikit-Learn provides many useful transformers, you will need to write your own for tasks such as custom cleanup operations or combining specific attributes."
      ]
    },
    {
      "cell_type": "code",
      "execution_count": 39,
      "id": "93c286fe",
      "metadata": {
        "id": "93c286fe"
      },
      "outputs": [],
      "source": [
        "\n",
        "\"\"\"\n",
        "Scikit learn provides many useful transformers, but we will need to write our own for custom cleanup operations\n",
        "or combining specific attributes.\n",
        "\"\"\"\n",
        "from sklearn.base import BaseEstimator, TransformerMixin\n",
        "import numpy as np\n",
        "\n",
        "rooms_ix, bedrooms_ix, population_ix, household_ix = 3, 4, 5, 6\n",
        "\n",
        "\n",
        "#   custom transformer for combining specific features to enable better learning\n",
        "class CombinedAttributesAdder(BaseEstimator, TransformerMixin):\n",
        "    def __init__(self, add_bedrooms_per_room=True):\n",
        "        self.add_bedrooms_per_room = add_bedrooms_per_room\n",
        "\n",
        "    def fit(self, X, y=None):\n",
        "        return self\n",
        "\n",
        "    def transform(self, X, y=None):\n",
        "        rooms_per_household = X[:, rooms_ix] / X[:, household_ix]\n",
        "        population_per_household = X[:, population_ix] / X[:, household_ix]\n",
        "        if self.add_bedrooms_per_room:\n",
        "            bedrooms_per_room = X[:, bedrooms_ix] / X[:, rooms_ix]\n",
        "            return np.c_[X, rooms_per_household, population_per_household, bedrooms_per_room]\n",
        "        else:\n",
        "            return np.c_[X, rooms_per_household, population_per_household]\n",
        "\n",
        "\n",
        "\"\"\"\n",
        "selector transformer: it simply transforms the data by selecting the desired features (numerical and categorical) \n",
        "dropping the rest, and converting the resulting DataFrame to a NumPy array.\n",
        "\"\"\"\n",
        "class DataFrameSelector(BaseEstimator, TransformerMixin):\n",
        "    \"\"\"\n",
        "    Given a list of attribute names, it transforms the data by selecting all values of the attributes\n",
        "    and dropping the rest.\n",
        "    \"\"\"\n",
        "    def __init__(self, attribute_names):\n",
        "        self.attribute_names = attribute_names\n",
        "\n",
        "    def fit(self, X, y=None):\n",
        "        return self\n",
        "\n",
        "    def transform(self, X, y=None):\n",
        "        return X[self.attribute_names].values"
      ]
    },
    {
      "cell_type": "markdown",
      "source": [
        "### Custom Pipeline\n"
      ],
      "metadata": {
        "id": "Ogpi4it5-jaR"
      },
      "id": "Ogpi4it5-jaR"
    },
    {
      "cell_type": "code",
      "execution_count": 40,
      "id": "88c5f811",
      "metadata": {
        "id": "88c5f811",
        "outputId": "7bedb0bb-b033-4137-cd6e-6e3a65fd7f84",
        "colab": {
          "base_uri": "https://localhost:8080/",
          "height": 70
        }
      },
      "outputs": [
        {
          "output_type": "execute_result",
          "data": {
            "application/vnd.google.colaboratory.intrinsic+json": {
              "type": "string"
            },
            "text/plain": [
              "'\\nFeatureUnion class: You give it a list of transformers (which can be entire transformer pipelines), and when its transform()\\nmethod is called it runs each transformer’s transform() method in parallel, waits for their output, \\nand then concatenates them and returns the result (and of course calling its fit() method calls all each \\ntransformer’s fit() method).\\n'"
            ]
          },
          "metadata": {},
          "execution_count": 40
        }
      ],
      "source": [
        "from sklearn.preprocessing import LabelBinarizer, StandardScaler, LabelEncoder, OneHotEncoder\n",
        "from sklearn.pipeline import Pipeline, FeatureUnion\n",
        "from sklearn.impute import SimpleImputer\n",
        "import pandas as pd\n",
        "\n",
        "\"\"\"\n",
        " Many data transformation steps need to be executed in the right order like\n",
        "    - Imputer: to handle null values in dataset\n",
        "    - LabelEncoder: for numerical encoding of categorical/text features\n",
        "    - StandardScaler: for feature scaling\n",
        "    - and Combining features.\n",
        "\n",
        " Scikit learn provides the Pipeline class to help with such sequences of transformations.\n",
        "\"\"\"\n",
        "\n",
        "def pipeline(data: pd.DataFrame):\n",
        "\n",
        "    # copy of only numerical attributes\n",
        "    housing_num = data.drop(\"ocean_proximity\", axis=1)\n",
        "\n",
        "    # lists of attribute names (Strings)\n",
        "    num_attribs = list(housing_num)\n",
        "    cat_attribs = [\"ocean_proximity\"]\n",
        "\n",
        "    # pipeline for handling numerical attributes\n",
        "    num_pipeline = Pipeline([\n",
        "        ('selector', DataFrameSelector(num_attribs)),   # returns a numpy array with values of the attribs in num_attribs\n",
        "        ('imputer', SimpleImputer(strategy=\"median\")),\n",
        "        ('attribs_adder', CombinedAttributesAdder()),\n",
        "        ('std_scaler', StandardScaler()),               # for feature scaling\n",
        "    ])\n",
        "\n",
        "    # pipeline to handle categorical/text attributes\n",
        "    cat_pipeline = Pipeline([\n",
        "        ('selector', DataFrameSelector(cat_attribs)),\n",
        "        ('one_hot_encoder', OneHotEncoder(sparse=False)),    # numerical encoding of categorical attributes\n",
        "    ])\n",
        "\n",
        "    full_pipeline = FeatureUnion(transformer_list=[\n",
        "        (\"num_pipeline\", num_pipeline),\n",
        "        (\"cat_pipeline\", cat_pipeline)\n",
        "    ])\n",
        "\n",
        "    return full_pipeline\n",
        "\n",
        "\"\"\"\n",
        "FeatureUnion class: You give it a list of transformers (which can be entire transformer pipelines), and when its transform()\n",
        "method is called it runs each transformer’s transform() method in parallel, waits for their output, \n",
        "and then concatenates them and returns the result (and of course calling its fit() method calls all each \n",
        "transformer’s fit() method).\n",
        "\"\"\""
      ]
    },
    {
      "cell_type": "markdown",
      "source": [
        "### Applying the pipeline to Training data\n"
      ],
      "metadata": {
        "id": "LK9ecnxM_EFY"
      },
      "id": "LK9ecnxM_EFY"
    },
    {
      "cell_type": "code",
      "source": [
        "full_pipeline = pipeline(housing)\n",
        "housing_prepared = full_pipeline.fit_transform(housing)\n",
        "housing_prepared.shape"
      ],
      "metadata": {
        "id": "DmwObxte-_IQ",
        "outputId": "c4f86533-831d-4cb4-97a8-3b3dc68b9595",
        "colab": {
          "base_uri": "https://localhost:8080/"
        }
      },
      "id": "DmwObxte-_IQ",
      "execution_count": 41,
      "outputs": [
        {
          "output_type": "execute_result",
          "data": {
            "text/plain": [
              "(16512, 16)"
            ]
          },
          "metadata": {},
          "execution_count": 41
        }
      ]
    },
    {
      "cell_type": "markdown",
      "source": [
        "### Selecting and training a model"
      ],
      "metadata": {
        "id": "CLx7TIW-_5GV"
      },
      "id": "CLx7TIW-_5GV"
    },
    {
      "cell_type": "code",
      "source": [
        "from sklearn.tree import DecisionTreeRegressor\n",
        "from sklearn.ensemble import RandomForestRegressor\n",
        "from sklearn.metrics import mean_squared_error\n",
        "from sklearn.model_selection import cross_val_score\n",
        "\n",
        "\n",
        "reg = RandomForestRegressor()\n",
        "reg.fit(housing_prepared, housing_labels)\n",
        "\n",
        "# predictions\n",
        "housing_predictions = reg.predict(housing_prepared)"
      ],
      "metadata": {
        "id": "m35mtVlE_1V7"
      },
      "id": "m35mtVlE_1V7",
      "execution_count": 57,
      "outputs": []
    },
    {
      "cell_type": "markdown",
      "source": [
        "### Evaluating model performance\n"
      ],
      "metadata": {
        "id": "6CC8jat-COZs"
      },
      "id": "6CC8jat-COZs"
    },
    {
      "cell_type": "code",
      "source": [
        "## Evaluating model performance\n",
        "\n",
        "# percentage evaluation\n",
        "percentage_score = reg.score(housing_prepared, housing_labels)\n",
        "\n",
        "# mse (mean squared error) also known as the cost function\n",
        "mse = mean_squared_error(housing_labels, housing_predictions)\n",
        "rmse = np.sqrt(mse)\n",
        "\n",
        "print(f\"Model accuracy: {percentage_score * 100} %\")\n",
        "print(f\"Cost (root mean squared error): {rmse}\")"
      ],
      "metadata": {
        "id": "PrgnMgpMCR6P",
        "outputId": "00ff5ae3-5254-4bca-870b-f4af8f19aae5",
        "colab": {
          "base_uri": "https://localhost:8080/"
        }
      },
      "id": "PrgnMgpMCR6P",
      "execution_count": 59,
      "outputs": [
        {
          "output_type": "stream",
          "name": "stdout",
          "text": [
            "Model accuracy: 97.3823529404965 %\n",
            "Cost (root mean squared error): 18718.912830980044\n"
          ]
        }
      ]
    },
    {
      "cell_type": "markdown",
      "source": [
        "### Better evaluation using cross-validation"
      ],
      "metadata": {
        "id": "a8JtZ7OlE283"
      },
      "id": "a8JtZ7OlE283"
    },
    {
      "cell_type": "code",
      "source": [
        "from sklearn.model_selection import cross_val_score\n",
        "\n",
        "# cross_validation helps you to see model performance on new data.\n",
        "cv_scores = cross_val_score(reg, housing_prepared, housing_labels, cv=5)\n",
        "cv_scores\n"
      ],
      "metadata": {
        "id": "YkTwTM6wE6Xd",
        "outputId": "fe9b72a3-9e55-4656-9802-92a581c09426",
        "colab": {
          "base_uri": "https://localhost:8080/"
        }
      },
      "id": "YkTwTM6wE6Xd",
      "execution_count": 56,
      "outputs": [
        {
          "output_type": "execute_result",
          "data": {
            "text/plain": [
              "array([0.5948348 , 0.6310053 , 0.62054252, 0.61138684, 0.61996619,\n",
              "       0.58212709, 0.61193813, 0.60739941, 0.66157036, 0.63306804])"
            ]
          },
          "metadata": {},
          "execution_count": 56
        }
      ]
    }
  ],
  "metadata": {
    "kernelspec": {
      "display_name": "Python 3 (ipykernel)",
      "language": "python",
      "name": "python3"
    },
    "language_info": {
      "codemirror_mode": {
        "name": "ipython",
        "version": 3
      },
      "file_extension": ".py",
      "mimetype": "text/x-python",
      "name": "python",
      "nbconvert_exporter": "python",
      "pygments_lexer": "ipython3",
      "version": "3.9.6"
    },
    "colab": {
      "name": "housing.ipynb",
      "provenance": []
    }
  },
  "nbformat": 4,
  "nbformat_minor": 5
}